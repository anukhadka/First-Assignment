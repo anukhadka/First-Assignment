{
 "cells": [
  {
   "cell_type": "markdown",
   "metadata": {},
   "source": [
    "# Q. You are given a string and your task is to swap cases. In other words, convert all lowercase letters to uppercase letters and vice versa.\n",
    "\n",
    "input: 'This is mE 123'\n",
    "\n",
    "output: 'tHIS IS Me 123'"
   ]
  },
  {
   "cell_type": "code",
   "execution_count": 3,
   "metadata": {},
   "outputs": [
    {
     "name": "stdout",
     "output_type": "stream",
     "text": [
      "anU\n"
     ]
    }
   ],
   "source": [
    "a=input(\"enter string:  \")\n",
    "print(a.swapcase())\n"
   ]
  },
  {
   "cell_type": "markdown",
   "metadata": {},
   "source": [
    "# Q. The user enters a string and a substring. You have to print the number of times that the substring occurs in the given string. String traversal will take place from left to right, not from right to left.\n",
    "\n",
    "Input: \n",
    "\n",
    "ABCDCDC\n",
    "\n",
    "CDC\n",
    "\n",
    "Output:\n",
    "\n",
    "2"
   ]
  },
  {
   "cell_type": "code",
   "execution_count": 29,
   "metadata": {},
   "outputs": [
    {
     "name": "stdout",
     "output_type": "stream",
     "text": [
      "2\n"
     ]
    }
   ],
   "source": [
    "x=input(\"Enter String: \")\n",
    "y=input(\"Enter Substring: \")\n",
    "count=0\n",
    "for i in range(0,len(x)-len(y)+1):\n",
    "    if x[i:i+len(y)]==y:\n",
    "       # print(x)\n",
    "       # print(x[i:i+len(y)])\n",
    "        count=count+1\n",
    "print(count)"
   ]
  },
  {
   "cell_type": "code",
   "execution_count": 32,
   "metadata": {},
   "outputs": [
    {
     "name": "stdout",
     "output_type": "stream",
     "text": [
      "2\n"
     ]
    }
   ],
   "source": [
    "string = input(\"enter string\")\n",
    "sub = input(\"enter substring\")\n",
    "count = 0\n",
    "\n",
    "for i in range(0, len(string)):\n",
    "    if string[i] == sub[0]:\n",
    "        if string[i:i+len(sub)] == sub:\n",
    "            count += 1\n",
    "\n",
    "print (count)\n",
    "               "
   ]
  },
  {
   "cell_type": "markdown",
   "metadata": {},
   "source": [
    "### Q. Write a Python program to replace last value of tuples in a list. \n",
    "Sample list: [(10, 20, 40), (40, 50, 60), (70, 80, 90)]\n",
    "\n",
    "Expected Output: [(10, 20, 100), (40, 50, 100), (70, 80, 100)] "
   ]
  },
  {
   "cell_type": "code",
   "execution_count": 2,
   "metadata": {},
   "outputs": [
    {
     "name": "stdout",
     "output_type": "stream",
     "text": [
      "[(10, 20, 100), (40, 50, 100), (70, 80, 100)]\n"
     ]
    }
   ],
   "source": [
    "#solution\n",
    "list=[(10, 20, 40), (40, 50, 60), (70, 80, 90)]\n",
    "print([m[:2]+(100,)for m in list])\n",
    "    \n"
   ]
  },
  {
   "cell_type": "code",
   "execution_count": null,
   "metadata": {},
   "outputs": [],
   "source": [
    "Q.Write a class in which its one method accepts a string from console and \n",
    "another method to print the characters that have even indexes.\n",
    "\n",
    "Example:\n",
    "If the following string is given as input to the program:\n",
    "\n",
    "H1e2l3l4o5w6o7r8l9d\n",
    "\n",
    "Then, the output of the program should be:\n",
    "\n",
    "Helloworld"
   ]
  },
  {
   "cell_type": "code",
   "execution_count": 52,
   "metadata": {},
   "outputs": [
    {
     "name": "stdout",
     "output_type": "stream",
     "text": [
      "The resulted string is: 0246\n"
     ]
    }
   ],
   "source": [
    "#solution:\n",
    "class EvenString:\n",
    "\n",
    "    def __init__(self):\n",
    "        self.text = \"\"\n",
    "        self.output = \"\"\n",
    "    \n",
    "  \n",
    "    \n",
    "    def enter_text(self):\n",
    "        self.text = input('Enter the string...')\n",
    "\n",
    "        for i in self.text:\n",
    "            if (self.text.index(i) % 2 == 0):\n",
    "                self.output +=i \n",
    "\n",
    "        return self.output\n",
    "    \n",
    "\n",
    "    \n",
    "    def print_output(self):\n",
    "        print(\"The resulted string is:\", self.output)\n",
    "\n",
    "if __name__ == \"__main__\":\n",
    "    es = EvenString()\n",
    "    es.enter_text()\n",
    "    es.print_output()\n"
   ]
  },
  {
   "cell_type": "code",
   "execution_count": null,
   "metadata": {},
   "outputs": [],
   "source": []
  }
 ],
 "metadata": {
  "kernelspec": {
   "display_name": "Python 3",
   "language": "python",
   "name": "python3"
  },
  "language_info": {
   "codemirror_mode": {
    "name": "ipython",
    "version": 3
   },
   "file_extension": ".py",
   "mimetype": "text/x-python",
   "name": "python",
   "nbconvert_exporter": "python",
   "pygments_lexer": "ipython3",
   "version": "3.6.5"
  }
 },
 "nbformat": 4,
 "nbformat_minor": 2
}
